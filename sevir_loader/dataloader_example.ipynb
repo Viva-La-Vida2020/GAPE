{
 "cells": [
  {
   "cell_type": "markdown",
   "source": [
    "*Recommended method to use SEVIR Dataloader to set up train/dev/test, simply modify the .yaml file with your own configs.*\n",
    "*Install OmegaConf and pytorch_lightning*"
   ],
   "metadata": {
    "collapsed": false
   },
   "id": "9e1e648e05f87834"
  },
  {
   "cell_type": "code",
   "execution_count": 1,
   "outputs": [
    {
     "name": "stderr",
     "output_type": "stream",
     "text": [
      "/home/liyiyao/.virtualenvs/NowcastNet/lib/python3.7/site-packages/tqdm/auto.py:21: TqdmWarning: IProgress not found. Please update jupyter and ipywidgets. See https://ipywidgets.readthedocs.io/en/stable/user_install.html\n",
      "  from .autonotebook import tqdm as notebook_tqdm\n"
     ]
    }
   ],
   "source": [
    "from omegaconf import OmegaConf\n",
    "from sevir_loader.sevir_torch_wrap import get_sevir_datamodule\n",
    "\n",
    "\n",
    "config_path =  \"/mnt/data/public_datasets/SEVIR/dataloader/sevir_example.yaml\"  # Change to your project path\n",
    "oc_from_file = OmegaConf.load(open(config_path, \"r\"))\n",
    "dataset_oc = OmegaConf.to_object(oc_from_file.dataset)"
   ],
   "metadata": {
    "collapsed": false,
    "ExecuteTime": {
     "end_time": "2024-05-02T08:30:41.844896Z",
     "start_time": "2024-05-02T08:30:40.444200Z"
    }
   },
   "id": "d774a0013c735425"
  },
  {
   "cell_type": "code",
   "execution_count": 2,
   "outputs": [],
   "source": [
    "dm = get_sevir_datamodule(\n",
    "    dataset_oc=dataset_oc,\n",
    "    num_workers=8,)\n",
    "dm.prepare_data() # Check if SEVIR dataset is available\n",
    "dm.setup() # Preprocess train/val/test data set\n",
    "\n",
    "train_data_loader = dm.train_dataloader()\n",
    "val_data_loader = dm.val_dataloader()\n",
    "test_data_loader = dm.test_dataloader()"
   ],
   "metadata": {
    "collapsed": false,
    "ExecuteTime": {
     "end_time": "2024-05-02T08:31:11.194039Z",
     "start_time": "2024-05-02T08:30:45.200505Z"
    }
   },
   "id": "c15e764cfc674eaa"
  },
  {
   "cell_type": "code",
   "execution_count": null,
   "outputs": [],
   "source": [
    "for idx, batch in enumerate(train_data_loader):\n",
    "    data_seq = batch['vil']\n",
    "    print(data_seq.shape)  # torch.Size([16, 29, 384, 384, 1])"
   ],
   "metadata": {
    "collapsed": false
   },
   "id": "6414d665610aedf1"
  },
  {
   "cell_type": "markdown",
   "source": [
    "*Configure Dataloader manually, this method is more time-consuming without multiprocess*"
   ],
   "metadata": {
    "collapsed": false
   },
   "id": "66e08fb9a1ad76e0"
  },
  {
   "cell_type": "code",
   "execution_count": 2,
   "outputs": [],
   "source": [
    "import datetime\n",
    "import numpy as np\n",
    "from sevir_loader.sevir_dataloader import SEVIR_CATALOG, SEVIR_DATA_DIR, SEVIR_RAW_SEQ_LEN, \\\n",
    "    SEVIR_LR_CATALOG, SEVIR_LR_DATA_DIR, SEVIR_LR_RAW_SEQ_LEN, SEVIRDataLoader\n",
    "\n",
    "\n",
    "dataset = 'sevir'\n",
    "if dataset == \"sevir\":\n",
    "    catalog_path = SEVIR_CATALOG\n",
    "    data_dir = SEVIR_DATA_DIR\n",
    "    raw_seq_len = SEVIR_RAW_SEQ_LEN\n",
    "elif dataset == \"sevir_lr\":\n",
    "    catalog_path = SEVIR_LR_CATALOG\n",
    "    data_dir = SEVIR_LR_DATA_DIR\n",
    "    raw_seq_len = SEVIR_LR_RAW_SEQ_LEN\n",
    "else:\n",
    "    raise ValueError(f\"Invalid dataset: {dataset}\")\n",
    "\n",
    "batch_size = 16\n",
    "data_types = [\"vil\", ]\n",
    "layout = \"NTHWC\"\n",
    "seq_len = 29\n",
    "stride = seq_len\n",
    "sample_mode = \"sequent\"\n",
    "start_date = datetime.datetime(2019, 5, 27)\n",
    "end_date = datetime.datetime(2019, 5, 29)"
   ],
   "metadata": {
    "collapsed": false,
    "ExecuteTime": {
     "end_time": "2024-04-16T10:38:32.158020Z",
     "start_time": "2024-04-16T10:38:32.125242Z"
    }
   },
   "id": "d41c789c666c33be"
  },
  {
   "cell_type": "code",
   "execution_count": 3,
   "outputs": [
    {
     "name": "stdout",
     "output_type": "stream",
     "text": [
      "torch.Size([16, 29, 384, 384, 1])\n",
      "torch.Size([16, 29, 384, 384, 1])\n",
      "torch.Size([16, 29, 384, 384, 1])\n",
      "torch.Size([16, 29, 384, 384, 1])\n",
      "torch.Size([16, 29, 384, 384, 1])\n",
      "torch.Size([16, 29, 384, 384, 1])\n",
      "torch.Size([16, 29, 384, 384, 1])\n",
      "torch.Size([16, 29, 384, 384, 1])\n",
      "torch.Size([16, 29, 384, 384, 1])\n",
      "torch.Size([16, 29, 384, 384, 1])\n",
      "torch.Size([16, 29, 384, 384, 1])\n",
      "torch.Size([16, 29, 384, 384, 1])\n",
      "torch.Size([16, 29, 384, 384, 1])\n",
      "torch.Size([16, 29, 384, 384, 1])\n",
      "torch.Size([16, 29, 384, 384, 1])\n",
      "torch.Size([16, 29, 384, 384, 1])\n",
      "torch.Size([16, 29, 384, 384, 1])\n",
      "torch.Size([16, 29, 384, 384, 1])\n",
      "torch.Size([16, 29, 384, 384, 1])\n",
      "torch.Size([16, 29, 384, 384, 1])\n"
     ]
    }
   ],
   "source": [
    "import datetime\n",
    "from sevir_loader.sevir_dataloader import SEVIR_CATALOG, SEVIR_DATA_DIR, SEVIR_RAW_SEQ_LEN, \\\n",
    "    SEVIRDataLoader\n",
    "\n",
    "\n",
    "batch_size = 16\n",
    "data_types = [\"vil\", ]\n",
    "layout = \"NTHWC\"\n",
    "seq_len = 29\n",
    "stride = 5\n",
    "sample_mode = \"sequent\"\n",
    "start_date = datetime.datetime(2019, 5, 27)\n",
    "end_date = datetime.datetime(2019, 5, 29)\n",
    "\n",
    "dataloader = SEVIRDataLoader(\n",
    "    data_types=data_types,\n",
    "    seq_len=seq_len,\n",
    "    raw_seq_len=SEVIR_RAW_SEQ_LEN,\n",
    "    sample_mode=sample_mode,\n",
    "    stride=stride,\n",
    "    batch_size=batch_size,\n",
    "    layout=layout,\n",
    "    num_shard=1, rank=0, split_mode=\"uneven\",\n",
    "    sevir_catalog=SEVIR_CATALOG,\n",
    "    sevir_data_dir=SEVIR_DATA_DIR,\n",
    "    start_date=start_date, end_date=end_date,\n",
    "    shuffle=True)\n",
    "\n",
    "for data_idx, data in enumerate(dataloader):\n",
    "    data_seq = data['vil']\n",
    "    print(data_seq.shape)"
   ],
   "metadata": {
    "collapsed": false,
    "ExecuteTime": {
     "end_time": "2024-05-02T08:36:24.353318Z",
     "start_time": "2024-05-02T08:36:09.664222Z"
    }
   },
   "id": "bcbd5691e504746d"
  }
 ],
 "metadata": {
  "kernelspec": {
   "display_name": "Python 3",
   "language": "python",
   "name": "python3"
  },
  "language_info": {
   "codemirror_mode": {
    "name": "ipython",
    "version": 2
   },
   "file_extension": ".py",
   "mimetype": "text/x-python",
   "name": "python",
   "nbconvert_exporter": "python",
   "pygments_lexer": "ipython2",
   "version": "2.7.6"
  }
 },
 "nbformat": 4,
 "nbformat_minor": 5
}
